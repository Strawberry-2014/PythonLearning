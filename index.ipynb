l = [1, 2, 'hello', 'world'] # �б���ͬʱ����int��string���͵�Ԫ��
l